{
 "cells": [
  {
   "cell_type": "markdown",
   "id": "b179b880",
   "metadata": {},
   "source": [
    "# Variational Inference for Univariate Gaussian Mixtures\n",
    "\n",
    "### Table of Contents\n",
    "\n",
    "1. [Introduction](#Introduction)\n",
    "2. [Simulating a Univariate Gaussian Mixture Prior](#Simulating-a-Univariate-Gaussian-Mixture-Prior)\n",
    "3. [Coordinate Ascent](#Coordinate-Ascent)\n",
    "\n",
    "\n",
    "\n",
    "## Introduction\n",
    "\n",
    "In this tutorial, we will implement variational Inference for estimation of univariate gaussian mixtures. **Univariate Gaussian Mixture** is essentially a mixture of *N* 1-dimensional Gaussian distributions. The problem is: given a dataset of gaussian mixtures, how can we estimate the Mean and Standard Deviation of each of the normal distributions within the data. how do we even approach this problem?\n",
    "\n",
    "If the reader is familiar with basic Machine Learning algorithms, then the problem might be more digestible by thinking about it as a clustering problem. If we consider each of the gaussians within our mixture as a globular cluster then we might be able to run a clustering algorithm such as KMeans to obtain the cluster centers, which translate to the means of our gaussians.\n",
    "\n",
    "Variational Inference (VI) for this problem can be seen as a generalization of the KMeans algortihm. VI, In essence, it is a Bayesian Optimization method. In Bayesian Optimization, we assume that our data is sampled from some prior distribution. The assumption allows us us to initialize a model (statistical distribution) of the data such that we can iteratively update the parameters of the model ( variational parameters ) to converge to the underlying data distribution. At the end of convergence, the model ( the posterior distribution ) should be such that sampling from it will have the highest likelihood of generating the observed data.\n",
    "\n",
    "The work has been inspired by the brilliant blog post of Lei Mao. Go check out his [blogs](https://leimao.github.io/)! He has basically derived nearly the entirety of the math for VI  on Univariate Gaussian Mixture Models. His blog post (check references down below) contains a comprehensive introductory reading into the theory of VI. This post simply covers the algorithm portion of it. I would highly recommend reading his derivations end to end."
   ]
  },
  {
   "cell_type": "code",
   "execution_count": null,
   "id": "b3e7dc5c",
   "metadata": {},
   "outputs": [],
   "source": [
    "!pip install pomegranate"
   ]
  },
  {
   "cell_type": "markdown",
   "id": "22ffe7d3",
   "metadata": {},
   "source": [
    "Here we import all the libraries we will need. Note that the gaussian mixtures in this post have been generated with a nifty little library called ***pomegranate*** . It is a python package that allows us to create probability distributions (such as gaussian mixture models) and sample from them. It can also do a bunch of cool stuff like bayesian estimation of distributions from observed data, hidden markov models, etc. Ironically, bayesian estimation is exactly what we will be doing today."
   ]
  },
  {
   "cell_type": "code",
   "execution_count": 2,
   "id": "a73132ae",
   "metadata": {},
   "outputs": [],
   "source": [
    "from pomegranate import *\n",
    "\n",
    "import numpy as np\n",
    "import pandas as pd\n",
    "import matplotlib.pyplot as plt\n",
    "import seaborn as sns\n",
    "\n",
    "from typing import Optional, Union, Tuple"
   ]
  },
  {
   "cell_type": "code",
   "execution_count": 3,
   "id": "95f69535",
   "metadata": {},
   "outputs": [],
   "source": [
    "# To enable type hinting for all subsequent functions\n",
    "DF = pd.DataFrame\n",
    "NP = np.ndarray"
   ]
  },
  {
   "cell_type": "markdown",
   "id": "35896e3c",
   "metadata": {},
   "source": [
    "## Simulating a Univariate Gaussian Mixture Prior"
   ]
  },
  {
   "cell_type": "code",
   "execution_count": 3,
   "id": "60d9c5ec",
   "metadata": {},
   "outputs": [],
   "source": [
    "# Each entry in prior gaussians sets up a cluster center followed by the cluster standard deviation\n",
    "prior_gaussians = [ \n",
    "    [-10,1],\n",
    "    [0,1],\n",
    "    [10,1]\n",
    "]\n",
    "\n",
    "dist_list = []\n",
    "\n",
    "for k in prior_gaussians:\n",
    "    dist_list.append(NormalDistribution(k[0],k[1]))\n",
    "\n",
    "# Use GeneralMixtureModel in the pomegranate library to create a combined distribution\n",
    "# from the individual Normal Distributions.\n",
    "# The combined model is equivalent to a Gaussian Mixture model with as many Gaussaians as\n",
    "# there are cluster centers\n",
    "gaussian_mixture_model = GeneralMixtureModel(dist_list)"
   ]
  },
  {
   "cell_type": "markdown",
   "id": "d635f50b",
   "metadata": {},
   "source": [
    "In the above code, initialize a mixture of gaussians with 3 cluster centers. We start simple by assuming the standard deviation for all of these gaussians is 1. The means of the gaussians are -10, 0, & 10. We define the `prior_gaussians` variable accordingly. \n",
    "\n",
    "Next we create the `gaussian_mixture_model` variable as shown above. \n",
    "\n",
    "Let us see if our mixture model looks okay."
   ]
  },
  {
   "cell_type": "code",
   "execution_count": 4,
   "id": "71103dca",
   "metadata": {},
   "outputs": [
    {
     "data": {
      "image/png": "[encoded data removed]",
      "text/plain": [
       "<Figure size 432x288 with 1 Axes>"
      ]
     },
     "metadata": {
      "needs_background": "light"
     },
     "output_type": "display_data"
    }
   ],
   "source": [
    "# Sample Data from the Gaussian Mixture model\n",
    "data=pd.DataFrame(gaussian_mixture_model.sample(1000),columns=['data'])\n",
    "\n",
    "# Visualize the distribution to make sure we are sampling data as expected\n",
    "sns.histplot(data,x='data',bins=50)\n",
    "plt.show()"
   ]
  },
  {
   "cell_type": "markdown",
   "id": "d2204a0f",
   "metadata": {},
   "source": [
    "In the code above, we have sample 1000 points from the mixture model and assigned them to our observed data-set. In a bayesian optimization setting, note that our models only have access to the observed data, but never the underlying distribution that generated the dataset. Out task in the bayesian framework is to assume a prior model and estimate the parameters of that model in order to \"recreate\" the distribution that generated our observed dataset."
   ]
  },
  {
   "cell_type": "markdown",
   "id": "f2a81110",
   "metadata": {},
   "source": [
    "--------------\n",
    "\n",
    "## Coordinate Ascent\n",
    "\n",
    "Now let us review the psuedo-code from Blei et. al. that describes the inference procedure for coordinate ascent. Before we do, note that there are a number of ways of doing parameter estimation for Bayesian inference such as *Markov Chain Monte Carlo*, *Expectation Maximization (EM)*, and *coordinate ascent*. The Coordinate Ascent (CA) algorithm is similar to EM algorithm in the sense that it iteratively updates variational parameters and latent variables of a model. In the CA procedure, we initialize the parameters and latent variables of a prior family of distributions that we want to estimate. Then, according to an update formula, we update the parameters & latent variables. In this case, the update formulae come pre-formulated to us thanks to Lei Mao's blog post and Blei at. al. (check references below).\n",
    "\n",
    "\n",
    "So instad of deriving the math, let us build an intuition for what is going on."
   ]
  },
  {
   "cell_type": "markdown",
   "id": "16f95c6f",
   "metadata": {},
   "source": [
    "![Psuedo-code for coordinate ascent](../../assets/VI_coord_ascent_gaussian_psuedo_code.png)\n",
    "\n",
    "<p style=\"text-align: center;\">Variational Inference for Gaussian Mixtures using Coordinate Ascent (Blei et. al.)</p>"
   ]
  },
  {
   "cell_type": "markdown",
   "id": "07f2770e",
   "metadata": {},
   "source": [
    "![Psuedo-code for coordinate ascent](../../assets/phi_update.png)\n",
    "\n",
    "<p style=\"text-align: center;\">Cluster assignment variational parameter update equation (Lei Mao)</p>"
   ]
  },
  {
   "cell_type": "code",
   "execution_count": 7,
   "id": "0fd18159",
   "metadata": {},
   "outputs": [],
   "source": [
    "class univariate_gaussian_variational_inference(object):\n",
    "    def __init__(self,data:NP,K:int)->None:\n",
    "        \n",
    "        if not isinstance(data, NP) or len(data.shape)>1:\n",
    "            raise Exception(\"Input Data MUST be a 1 dimensional numpy array\")\n",
    "            \n",
    "        self.data=data\n",
    "        self.k=K\n",
    "        self.num_samples=data.shape[0]\n",
    "        self.cluster_assignments=None\n",
    "        \n",
    "    def init_variational_params(self)->Tuple[NP,NP,NP]:\n",
    "        # Initialize Variational Parameters\n",
    "        \n",
    "        # For the m parameter, a reasonable initialization is \n",
    "        # finding the limits of the data and sampling from a \n",
    "        # uniform distribution within that range\n",
    "        data_range = (min(self.data),max(self.data))\n",
    "        m = np.random.uniform(low=data_range[0],high=data_range[1],size=self.k)\n",
    "        \n",
    "        # For the S variational param, leave all standard deviations as one\n",
    "        var = np.ones(self.k).astype(float) ** 2 # adding the square just to make sure we know what this variable is later\n",
    "        \n",
    "        # For the phi latent variable\n",
    "        # initialize an N x K matrix\n",
    "        # then population the matrix with random probabilities\n",
    "        # each row sums to 1\n",
    "        phi = np.random.uniform(low=0,high=1,size=[len(data),self.k])\n",
    "        phi = phi/phi.sum(axis=1,keepdims=True)\n",
    "        \n",
    "        return (m,var,phi)\n",
    "        \n",
    "    def coordinate_ascent_optimizer(self,num_iters:int=1000)->Tuple[NP,NP,NP]:\n",
    "        m,var,phi = self.init_variational_params()\n",
    "                \n",
    "        # For the first implementation, we don't compute ELBO\n",
    "        # We simply run the algorithm for N iterations\n",
    "        for _ in range(num_iters):\n",
    "            for i in range(len(self.data)):\n",
    "                phi[i,:] = np.exp(m*self.data[i] - ((var + m**2)/2))\n",
    "                phi[i,:] = phi[i,:] / phi[i,:].sum()\n",
    "                \n",
    "            # Now let us assume that the prior variance of component means is 1\n",
    "            # then\n",
    "            for k in range(self.k):\n",
    "                m[k] = np.sum(phi[:,k] * self.data)/(1 + np.sum(phi[:,k]))\n",
    "                var[k] = 1 / (1 + np.sum(phi[:,k]))\n",
    "            \n",
    "        self.cluster_assignments = np.argmax(phi,axis=1)\n",
    "        \n",
    "        return m,var,phi"
   ]
  },
  {
   "cell_type": "markdown",
   "id": "c24a27ad",
   "metadata": {},
   "source": [
    "Let us initialize the variational inference object"
   ]
  },
  {
   "cell_type": "code",
   "execution_count": 53,
   "id": "e3bec004",
   "metadata": {},
   "outputs": [],
   "source": [
    "vi=univariate_gaussian_variational_inference(data['data'].values,3)"
   ]
  },
  {
   "cell_type": "markdown",
   "id": "f2788f05",
   "metadata": {},
   "source": [
    "Now running the algorithm for 0 iterations will simply initialize the variational parameters. That means the cluster probability densities will have a random initialization. So in theory all of our data points should have random cluster assignments. Let's test this hypothesis"
   ]
  },
  {
   "cell_type": "code",
   "execution_count": 55,
   "id": "619b6cfb",
   "metadata": {},
   "outputs": [],
   "source": [
    "_=vi.coordinate_ascent_optimizer(0)\n",
    "data['cluster']=vi.cluster_assignments"
   ]
  },
  {
   "cell_type": "code",
   "execution_count": 56,
   "id": "c0ab0aeb",
   "metadata": {},
   "outputs": [
    {
     "data": {
      "image/png": "[encoded data removed]",
      "text/plain": [
       "<Figure size 432x288 with 1 Axes>"
      ]
     },
     "metadata": {
      "needs_background": "light"
     },
     "output_type": "display_data"
    }
   ],
   "source": [
    "sns.histplot(data,x='data',hue='cluster',bins=50, alpha=0.5, palette='pastel')\n",
    "plt.show()"
   ]
  },
  {
   "cell_type": "markdown",
   "id": "d90425e1",
   "metadata": {},
   "source": [
    "From the above plot, it is quite clear that the distribution of clusters is jumbled up, with points being randomly assigned to each cluster with a roughly uniform likelihood. \n",
    "\n",
    "Now let us run the algorithm for just 1 iteration"
   ]
  },
  {
   "cell_type": "code",
   "execution_count": 57,
   "id": "3f826e68",
   "metadata": {},
   "outputs": [],
   "source": [
    "_=vi.coordinate_ascent_optimizer(1)\n",
    "data['cluster']=vi.cluster_assignments"
   ]
  },
  {
   "cell_type": "code",
   "execution_count": 58,
   "id": "c1b85712",
   "metadata": {},
   "outputs": [
    {
     "data": {
      "image/png": "[encoded data removed]",
      "text/plain": [
       "<Figure size 432x288 with 1 Axes>"
      ]
     },
     "metadata": {
      "needs_background": "light"
     },
     "output_type": "display_data"
    }
   ],
   "source": [
    "sns.histplot(data,x='data',hue='cluster',bins=50, alpha=0.5, palette='pastel')\n",
    "plt.show()"
   ]
  },
  {
   "cell_type": "markdown",
   "id": "1e521759",
   "metadata": {},
   "source": [
    "It seems like the algorithm has already learned some distinctions between the decision boundaries. But the algorithm has obviously not converged. Let us run for 10 more iterations"
   ]
  },
  {
   "cell_type": "code",
   "execution_count": 59,
   "id": "41e027d0",
   "metadata": {},
   "outputs": [
    {
     "data": {
      "image/png": "[encoded data removed]",
      "text/plain": [
       "<Figure size 432x288 with 1 Axes>"
      ]
     },
     "metadata": {
      "needs_background": "light"
     },
     "output_type": "display_data"
    }
   ],
   "source": [
    "_=vi.coordinate_ascent_optimizer(10)\n",
    "data['cluster']=vi.cluster_assignments\n",
    "\n",
    "sns.histplot(data,x='data',hue='cluster',bins=50, alpha=0.5, palette='pastel')\n",
    "plt.show()"
   ]
  },
  {
   "cell_type": "markdown",
   "id": "8fa70f78",
   "metadata": {},
   "source": [
    "Voila! The algorithm has converged in just 10 iterations. Now, let us do some experiments to test the limits of this algorithm. "
   ]
  },
  {
   "cell_type": "markdown",
   "id": "09764812",
   "metadata": {},
   "source": [
    "## Clusters with different variances\n",
    "\n",
    "The original dataset comes from 3 normal distributions with a constant standard deviation ( of 1 ). What would happen if the data has cluster with variable standard deviations? \n",
    "\n",
    "1. Can we recover the clusters in the same way?\n",
    "2. Will the estimated variational parameter recover the prior standard deviation?\n",
    "\n",
    "Let us test. First we will take a similar approach to set up the input dataset with just different vairances"
   ]
  },
  {
   "cell_type": "code",
   "execution_count": 5,
   "id": "790f91b5",
   "metadata": {},
   "outputs": [
    {
     "data": {
      "image/png": "[encoded data removed]",
      "text/plain": [
       "<Figure size 432x288 with 1 Axes>"
      ]
     },
     "metadata": {
      "needs_background": "light"
     },
     "output_type": "display_data"
    }
   ],
   "source": [
    "prior_gaussians = [ \n",
    "    [-20,3],\n",
    "    [0,1],\n",
    "    [5,0.5]\n",
    "]\n",
    "\n",
    "dist_list = []\n",
    "\n",
    "for k in prior_gaussians:\n",
    "    dist_list.append(NormalDistribution(k[0],k[1]))\n",
    "\n",
    "gaussian_mixture_model = GeneralMixtureModel(dist_list)\n",
    "data=pd.DataFrame(gaussian_mixture_model.sample(1000),columns=['data'])\n",
    "\n",
    "sns.histplot(data,x='data',bins=50)\n",
    "plt.show()"
   ]
  },
  {
   "cell_type": "markdown",
   "id": "e45ac4ec",
   "metadata": {},
   "source": [
    "Let us run the algorithm for 3 iterations first"
   ]
  },
  {
   "cell_type": "code",
   "execution_count": 10,
   "id": "83bb73ba",
   "metadata": {},
   "outputs": [
    {
     "data": {
      "image/png": "[encoded data removed]",
      "text/plain": [
       "<Figure size 432x288 with 1 Axes>"
      ]
     },
     "metadata": {
      "needs_background": "light"
     },
     "output_type": "display_data"
    }
   ],
   "source": [
    "vi=univariate_gaussian_variational_inference(data['data'].values,3)\n",
    "_=vi.coordinate_ascent_optimizer(3)\n",
    "data['cluster']=vi.cluster_assignments\n",
    "\n",
    "sns.histplot(data,x='data',hue='cluster',bins=50, alpha=0.5, palette='pastel')\n",
    "plt.show()"
   ]
  },
  {
   "cell_type": "markdown",
   "id": "ab78ce5a",
   "metadata": {},
   "source": [
    "Not quite there. Let's run it for 50 iterations"
   ]
  },
  {
   "cell_type": "code",
   "execution_count": 11,
   "id": "48037a04",
   "metadata": {},
   "outputs": [
    {
     "data": {
      "image/png": "[encoded data removed]",
      "text/plain": [
       "<Figure size 432x288 with 1 Axes>"
      ]
     },
     "metadata": {
      "needs_background": "light"
     },
     "output_type": "display_data"
    }
   ],
   "source": [
    "m,var,phi=vi.coordinate_ascent_optimizer(50)\n",
    "data['cluster']=vi.cluster_assignments\n",
    "\n",
    "sns.histplot(data,x='data',hue='cluster',bins=50, alpha=0.5, palette='pastel')\n",
    "plt.show()"
   ]
  },
  {
   "cell_type": "markdown",
   "id": "28c75be7",
   "metadata": {},
   "source": [
    "Visually it seems like the algorithm has recovered the clusters. Now let us examine the variational parameters"
   ]
  },
  {
   "cell_type": "code",
   "execution_count": 15,
   "id": "5d9acc54",
   "metadata": {},
   "outputs": [
    {
     "name": "stdout",
     "output_type": "stream",
     "text": [
      "Cluster means & variance obtained from coordinate ascent optimization\n",
      "[(-19.93, 0.0531), (4.98, 0.0535), (0.07, 0.0578)]\n"
     ]
    }
   ],
   "source": [
    "print('Cluster means & variance obtained from coordinate ascent optimization')\n",
    "print(list(zip(m.round(2),np.sqrt(var).round(4))))"
   ]
  },
  {
   "cell_type": "markdown",
   "id": "932cd440",
   "metadata": {},
   "source": [
    "That's very interesting, it is clear that the cluster means are about the correct values but standard deviation is not converging to the values we expect. In next updates, we will try to find out why this lack of convergence occurs"
   ]
  },
  {
   "cell_type": "markdown",
   "id": "3485d802",
   "metadata": {},
   "source": [
    "## References\n",
    "\n",
    "[Introduction to Variational Inference](https://leimao.github.io/article/Introduction-to-Variational-Inference/) - Lei Mao, Sr. DL Engineer, NVIDIA, Santa Clara\n",
    "\n",
    "[Variational Inference: A Review for Statisticians](https://arxiv.org/abs/1601.00670) - Blei et. al."
   ]
  }
 ],
 "metadata": {
  "kernelspec": {
   "display_name": "Python 3 (ipykernel)",
   "language": "python",
   "name": "python3"
  },
  "language_info": {
   "codemirror_mode": {
    "name": "ipython",
    "version": 3
   },
   "file_extension": ".py",
   "mimetype": "text/x-python",
   "name": "python",
   "nbconvert_exporter": "python",
   "pygments_lexer": "ipython3",
   "version": "3.7.11"
  }
 },
 "nbformat": 4,
 "nbformat_minor": 5
}
