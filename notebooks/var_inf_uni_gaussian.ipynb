{
 "cells": [
  {
   "cell_type": "markdown",
   "id": "b179b880",
   "metadata": {},
   "source": [
    "### Sources\n",
    "\n",
    "[Introduction to Variational Inference](https://leimao.github.io/article/Introduction-to-Variational-Inference/) - Lei Mao, Sr. DL Engineer, NVIDIA, Santa Clara\n",
    "\n",
    "[Variational Inference: A Review for Statisticians](https://arxiv.org/abs/1601.00670) - Blei et. al."
   ]
  },
  {
   "cell_type": "markdown",
   "id": "16f95c6f",
   "metadata": {},
   "source": [
    "![Psuedo-code for coordinate ascent](../assets/VI_coord_ascent_gaussian_psuedo_code.png)\n",
    "\n",
    "<p style=\"text-align: center;\">Variational Inference for Gaussian Mixtures using Coordinate Ascent (Blei et. al.)</p>"
   ]
  },
  {
   "cell_type": "code",
   "execution_count": 4,
   "id": "b3e7dc5c",
   "metadata": {
    "collapsed": true
   },
   "outputs": [
    {
     "name": "stdout",
     "output_type": "stream",
     "text": [
      "Collecting pomegranate\n",
      "  Downloading pomegranate-0.14.8-cp37-cp37m-macosx_10_9_x86_64.whl (7.2 MB)\n",
      "\u001b[K     |████████████████████████████████| 7.2 MB 736 kB/s eta 0:00:01\n",
      "\u001b[?25hRequirement already satisfied: scipy>=0.17.0 in /Users/goswamd/anaconda3/lib/python3.7/site-packages (from pomegranate) (1.7.3)\n",
      "Requirement already satisfied: numpy>=1.20.0 in /Users/goswamd/anaconda3/lib/python3.7/site-packages (from pomegranate) (1.21.5)\n",
      "Requirement already satisfied: joblib>=0.9.0b4 in /Users/goswamd/anaconda3/lib/python3.7/site-packages (from pomegranate) (1.1.0)\n",
      "Requirement already satisfied: pyyaml in /Users/goswamd/anaconda3/lib/python3.7/site-packages (from pomegranate) (5.4.1)\n",
      "Requirement already satisfied: networkx>=2.4 in /Users/goswamd/anaconda3/lib/python3.7/site-packages (from pomegranate) (2.6.1)\n",
      "Requirement already satisfied: pandas>=1.1 in /Users/goswamd/anaconda3/lib/python3.7/site-packages (from networkx>=2.4->pomegranate) (1.3.5)\n",
      "Requirement already satisfied: matplotlib>=3.3 in /Users/goswamd/anaconda3/lib/python3.7/site-packages (from networkx>=2.4->pomegranate) (3.5.1)\n",
      "Requirement already satisfied: pyparsing>=2.2.1 in /Users/goswamd/anaconda3/lib/python3.7/site-packages (from matplotlib>=3.3->networkx>=2.4->pomegranate) (3.0.4)\n",
      "Requirement already satisfied: cycler>=0.10 in /Users/goswamd/anaconda3/lib/python3.7/site-packages (from matplotlib>=3.3->networkx>=2.4->pomegranate) (0.11.0)\n",
      "Requirement already satisfied: pillow>=6.2.0 in /Users/goswamd/anaconda3/lib/python3.7/site-packages (from matplotlib>=3.3->networkx>=2.4->pomegranate) (9.0.1)\n",
      "Requirement already satisfied: python-dateutil>=2.7 in /Users/goswamd/anaconda3/lib/python3.7/site-packages (from matplotlib>=3.3->networkx>=2.4->pomegranate) (2.8.2)\n",
      "Requirement already satisfied: kiwisolver>=1.0.1 in /Users/goswamd/anaconda3/lib/python3.7/site-packages (from matplotlib>=3.3->networkx>=2.4->pomegranate) (1.4.2)\n",
      "Requirement already satisfied: packaging>=20.0 in /Users/goswamd/anaconda3/lib/python3.7/site-packages (from matplotlib>=3.3->networkx>=2.4->pomegranate) (20.4)\n",
      "Requirement already satisfied: fonttools>=4.22.0 in /Users/goswamd/anaconda3/lib/python3.7/site-packages (from matplotlib>=3.3->networkx>=2.4->pomegranate) (4.25.0)\n",
      "Requirement already satisfied: typing-extensions in /Users/goswamd/anaconda3/lib/python3.7/site-packages (from kiwisolver>=1.0.1->matplotlib>=3.3->networkx>=2.4->pomegranate) (4.1.1)\n",
      "Requirement already satisfied: six in /Users/goswamd/anaconda3/lib/python3.7/site-packages (from packaging>=20.0->matplotlib>=3.3->networkx>=2.4->pomegranate) (1.15.0)\n",
      "Requirement already satisfied: pytz>=2017.3 in /Users/goswamd/anaconda3/lib/python3.7/site-packages (from pandas>=1.1->networkx>=2.4->pomegranate) (2022.1)\n",
      "Installing collected packages: pomegranate\n",
      "Successfully installed pomegranate-0.14.8\n"
     ]
    }
   ],
   "source": [
    "#!pip install pomegranate"
   ]
  },
  {
   "cell_type": "code",
   "execution_count": 32,
   "id": "a73132ae",
   "metadata": {},
   "outputs": [],
   "source": [
    "from pomegranate import *\n",
    "\n",
    "import numpy as np\n",
    "import pandas as pd\n",
    "import matplotlib.pyplot as plt\n",
    "import seaborn as sns\n",
    "\n",
    "from typing import Optional, Union, Tuple"
   ]
  },
  {
   "cell_type": "code",
   "execution_count": 31,
   "id": "95f69535",
   "metadata": {},
   "outputs": [],
   "source": [
    "DF = pd.DataFrame\n",
    "NP = np.ndarray"
   ]
  },
  {
   "cell_type": "code",
   "execution_count": 1,
   "id": "90ee81f4",
   "metadata": {},
   "outputs": [],
   "source": [
    "\n",
    "\n",
    "def EM_univariate_gaussian_optimizer():\n",
    "    return"
   ]
  },
  {
   "cell_type": "code",
   "execution_count": 27,
   "id": "60d9c5ec",
   "metadata": {},
   "outputs": [],
   "source": [
    "# Each entry in prior gaussians sets up a cluster center followed by the cluster standard deviation\n",
    "prior_gaussians = [ \n",
    "    [-10,1],\n",
    "    [0,1],\n",
    "    [10,1]\n",
    "]\n",
    "\n",
    "dist_list = []\n",
    "\n",
    "for k in prior_gaussians:\n",
    "    dist_list.append(NormalDistribution(k[0],k[1]))\n",
    "\n",
    "# Use GeneralMixtureModel in the pomegranate library to create a combined distribution\n",
    "# from the individual Normal Distributions.\n",
    "# The combined model is equivalent to a Gaussian Mixture model with as many Gaussaians as\n",
    "# there are cluster centers\n",
    "gaussian_mixture_model = GeneralMixtureModel(dist_list)"
   ]
  },
  {
   "cell_type": "code",
   "execution_count": 29,
   "id": "71103dca",
   "metadata": {},
   "outputs": [
    {
     "data": {
      "image/png": "[encoded data removed]",
      "text/plain": [
       "<Figure size 432x288 with 1 Axes>"
      ]
     },
     "metadata": {
      "needs_background": "light"
     },
     "output_type": "display_data"
    }
   ],
   "source": [
    "# Sample Data from the Gaussian Mixture model\n",
    "data=pd.DataFrame(gaussian_mixture_model.sample(1000),columns=['data'])\n",
    "\n",
    "# Visualize the distribution to make sure we are sampling data as expected\n",
    "sns.histplot(data,x='data',bins=50)\n",
    "plt.show()"
   ]
  },
  {
   "cell_type": "code",
   "execution_count": 17,
   "id": "0fd18159",
   "metadata": {},
   "outputs": [
    {
     "name": "stdout",
     "output_type": "stream",
     "text": [
      "<class 'pandas.core.frame.DataFrame'>\n",
      "RangeIndex: 1000 entries, 0 to 999\n",
      "Data columns (total 1 columns):\n",
      " #   Column  Non-Null Count  Dtype  \n",
      "---  ------  --------------  -----  \n",
      " 0   data    1000 non-null   float64\n",
      "dtypes: float64(1)\n",
      "memory usage: 7.9 KB\n"
     ]
    }
   ],
   "source": [
    "class univariate_gaussian_variational_inference(object):\n",
    "    def __init__(self,data:NP,K:int)->None:\n",
    "        \n",
    "        if not isinstance(data, NP) or len(data.shape)>1:\n",
    "            raise Exception(\"Input Data MUST be a 1 dimensional numpy array\")\n",
    "            \n",
    "        self.data=data\n",
    "        self.K=K\n",
    "        self.num_samples=data.shape[0]\n",
    "        \n",
    "    def init_variational_params(self)->Tuple[NP,NP,NP]:\n",
    "        # Initialize Variational Parameters\n",
    "        \n",
    "        # For the m parameter, a reasonable initialization is \n",
    "        # finding the limits of the data and sampling from a \n",
    "        # uniform distribution within that range\n",
    "        \n",
    "        \n",
    "        # For the S parameter, leave all standard deviations as one\n",
    "        \n",
    "        \n",
    "        # For the C parameter, randomly assign all data point into 1 of K clusters\n",
    "        \n",
    "        \n",
    "        \n",
    "        \n",
    "        \n",
    "\n",
    "def coordinate_ascent_optimizer(\n",
    "    data:NP,\n",
    "    K:int # Number of clusters\n",
    "):\n",
    "    if not isinstance(data, NP) or len(data.shape)>1:\n",
    "        raise Exception(\"Input Data MUST be a 1 dimensional numpy array\")\n",
    "    \n",
    "    # initialize Variational Parameters\n",
    "    \n",
    "    \n",
    "    \n",
    "    return"
   ]
  },
  {
   "cell_type": "code",
   "execution_count": null,
   "id": "e3bec004",
   "metadata": {},
   "outputs": [],
   "source": []
  }
 ],
 "metadata": {
  "kernelspec": {
   "display_name": "Python 3 (ipykernel)",
   "language": "python",
   "name": "python3"
  },
  "language_info": {
   "codemirror_mode": {
    "name": "ipython",
    "version": 3
   },
   "file_extension": ".py",
   "mimetype": "text/x-python",
   "name": "python",
   "nbconvert_exporter": "python",
   "pygments_lexer": "ipython3",
   "version": "3.7.11"
  }
 },
 "nbformat": 4,
 "nbformat_minor": 5
}
