{
 "cells": [
  {
   "cell_type": "markdown",
   "id": "b179b880",
   "metadata": {},
   "source": [
    "### Sources\n",
    "\n",
    "[Introduction to Variational Inference](https://leimao.github.io/article/Introduction-to-Variational-Inference/) - Lei Mao, Sr. DL Engineer, NVIDIA, Santa Clara\n",
    "\n",
    "[Variational Inference: A Review for Statisticians](https://arxiv.org/abs/1601.00670) - Blei et. al."
   ]
  },
  {
   "cell_type": "markdown",
   "id": "16f95c6f",
   "metadata": {},
   "source": [
    "![Psuedo-code for coordinate ascent](../assets/VI_coord_ascent_gaussian_psuedo_code.png)\n",
    "\n",
    "<p style=\"text-align: center;\">Variational Inference for Gaussian Mixtures using Coordinate Ascent (Blei et. al.)</p>"
   ]
  },
  {
   "cell_type": "code",
   "execution_count": 4,
   "id": "b3e7dc5c",
   "metadata": {
    "collapsed": true
   },
   "outputs": [
    {
     "name": "stdout",
     "output_type": "stream",
     "text": [
      "Collecting pomegranate\n",
      "  Downloading pomegranate-0.14.8-cp37-cp37m-macosx_10_9_x86_64.whl (7.2 MB)\n",
      "\u001b[K     |████████████████████████████████| 7.2 MB 736 kB/s eta 0:00:01\n",
      "\u001b[?25hRequirement already satisfied: scipy>=0.17.0 in /Users/goswamd/anaconda3/lib/python3.7/site-packages (from pomegranate) (1.7.3)\n",
      "Requirement already satisfied: numpy>=1.20.0 in /Users/goswamd/anaconda3/lib/python3.7/site-packages (from pomegranate) (1.21.5)\n",
      "Requirement already satisfied: joblib>=0.9.0b4 in /Users/goswamd/anaconda3/lib/python3.7/site-packages (from pomegranate) (1.1.0)\n",
      "Requirement already satisfied: pyyaml in /Users/goswamd/anaconda3/lib/python3.7/site-packages (from pomegranate) (5.4.1)\n",
      "Requirement already satisfied: networkx>=2.4 in /Users/goswamd/anaconda3/lib/python3.7/site-packages (from pomegranate) (2.6.1)\n",
      "Requirement already satisfied: pandas>=1.1 in /Users/goswamd/anaconda3/lib/python3.7/site-packages (from networkx>=2.4->pomegranate) (1.3.5)\n",
      "Requirement already satisfied: matplotlib>=3.3 in /Users/goswamd/anaconda3/lib/python3.7/site-packages (from networkx>=2.4->pomegranate) (3.5.1)\n",
      "Requirement already satisfied: pyparsing>=2.2.1 in /Users/goswamd/anaconda3/lib/python3.7/site-packages (from matplotlib>=3.3->networkx>=2.4->pomegranate) (3.0.4)\n",
      "Requirement already satisfied: cycler>=0.10 in /Users/goswamd/anaconda3/lib/python3.7/site-packages (from matplotlib>=3.3->networkx>=2.4->pomegranate) (0.11.0)\n",
      "Requirement already satisfied: pillow>=6.2.0 in /Users/goswamd/anaconda3/lib/python3.7/site-packages (from matplotlib>=3.3->networkx>=2.4->pomegranate) (9.0.1)\n",
      "Requirement already satisfied: python-dateutil>=2.7 in /Users/goswamd/anaconda3/lib/python3.7/site-packages (from matplotlib>=3.3->networkx>=2.4->pomegranate) (2.8.2)\n",
      "Requirement already satisfied: kiwisolver>=1.0.1 in /Users/goswamd/anaconda3/lib/python3.7/site-packages (from matplotlib>=3.3->networkx>=2.4->pomegranate) (1.4.2)\n",
      "Requirement already satisfied: packaging>=20.0 in /Users/goswamd/anaconda3/lib/python3.7/site-packages (from matplotlib>=3.3->networkx>=2.4->pomegranate) (20.4)\n",
      "Requirement already satisfied: fonttools>=4.22.0 in /Users/goswamd/anaconda3/lib/python3.7/site-packages (from matplotlib>=3.3->networkx>=2.4->pomegranate) (4.25.0)\n",
      "Requirement already satisfied: typing-extensions in /Users/goswamd/anaconda3/lib/python3.7/site-packages (from kiwisolver>=1.0.1->matplotlib>=3.3->networkx>=2.4->pomegranate) (4.1.1)\n",
      "Requirement already satisfied: six in /Users/goswamd/anaconda3/lib/python3.7/site-packages (from packaging>=20.0->matplotlib>=3.3->networkx>=2.4->pomegranate) (1.15.0)\n",
      "Requirement already satisfied: pytz>=2017.3 in /Users/goswamd/anaconda3/lib/python3.7/site-packages (from pandas>=1.1->networkx>=2.4->pomegranate) (2022.1)\n",
      "Installing collected packages: pomegranate\n",
      "Successfully installed pomegranate-0.14.8\n"
     ]
    }
   ],
   "source": [
    "#!pip install pomegranate"
   ]
  },
  {
   "cell_type": "code",
   "execution_count": 1,
   "id": "a73132ae",
   "metadata": {},
   "outputs": [],
   "source": [
    "from pomegranate import *\n",
    "\n",
    "import numpy as np\n",
    "import pandas as pd\n",
    "import matplotlib.pyplot as plt\n",
    "import seaborn as sns\n",
    "\n",
    "from typing import Optional, Union, Tuple"
   ]
  },
  {
   "cell_type": "code",
   "execution_count": 2,
   "id": "95f69535",
   "metadata": {},
   "outputs": [],
   "source": [
    "DF = pd.DataFrame\n",
    "NP = np.ndarray"
   ]
  },
  {
   "cell_type": "code",
   "execution_count": 3,
   "id": "90ee81f4",
   "metadata": {},
   "outputs": [],
   "source": [
    "\n",
    "\n",
    "def EM_univariate_gaussian_optimizer():\n",
    "    return"
   ]
  },
  {
   "cell_type": "code",
   "execution_count": 3,
   "id": "60d9c5ec",
   "metadata": {},
   "outputs": [],
   "source": [
    "# Each entry in prior gaussians sets up a cluster center followed by the cluster standard deviation\n",
    "prior_gaussians = [ \n",
    "    [-10,1],\n",
    "    [0,1],\n",
    "    [10,1]\n",
    "]\n",
    "\n",
    "dist_list = []\n",
    "\n",
    "for k in prior_gaussians:\n",
    "    dist_list.append(NormalDistribution(k[0],k[1]))\n",
    "\n",
    "# Use GeneralMixtureModel in the pomegranate library to create a combined distribution\n",
    "# from the individual Normal Distributions.\n",
    "# The combined model is equivalent to a Gaussian Mixture model with as many Gaussaians as\n",
    "# there are cluster centers\n",
    "gaussian_mixture_model = GeneralMixtureModel(dist_list)"
   ]
  },
  {
   "cell_type": "code",
   "execution_count": 4,
   "id": "71103dca",
   "metadata": {},
   "outputs": [
    {
     "data": {
      "image/png": "[encoded data removed]",
      "text/plain": [
       "<Figure size 432x288 with 1 Axes>"
      ]
     },
     "metadata": {
      "needs_background": "light"
     },
     "output_type": "display_data"
    }
   ],
   "source": [
    "# Sample Data from the Gaussian Mixture model\n",
    "data=pd.DataFrame(gaussian_mixture_model.sample(1000),columns=['data'])\n",
    "\n",
    "# Visualize the distribution to make sure we are sampling data as expected\n",
    "sns.histplot(data,x='data',bins=50)\n",
    "plt.show()"
   ]
  },
  {
   "cell_type": "markdown",
   "id": "07f2770e",
   "metadata": {},
   "source": [
    "![Psuedo-code for coordinate ascent](../assets/phi_update.png)\n",
    "\n",
    "<p style=\"text-align: center;\">Cluster assignment variational parameter update equation (Lei Mao)</p>"
   ]
  },
  {
   "cell_type": "code",
   "execution_count": 31,
   "id": "0fd18159",
   "metadata": {},
   "outputs": [],
   "source": [
    "class univariate_gaussian_variational_inference(object):\n",
    "    def __init__(self,data:NP,K:int)->None:\n",
    "        \n",
    "        if not isinstance(data, NP) or len(data.shape)>1:\n",
    "            raise Exception(\"Input Data MUST be a 1 dimensional numpy array\")\n",
    "            \n",
    "        self.data=data\n",
    "        self.k=K\n",
    "        self.num_samples=data.shape[0]\n",
    "        self.cluster_assignments=None\n",
    "        \n",
    "    def init_variational_params(self)->Tuple[NP,NP,NP]:\n",
    "        # Initialize Variational Parameters\n",
    "        \n",
    "        # For the m parameter, a reasonable initialization is \n",
    "        # finding the limits of the data and sampling from a \n",
    "        # uniform distribution within that range\n",
    "        data_range = (min(self.data),max(self.data))\n",
    "        m = np.random.uniform(low=data_range[0],high=data_range[1],size=self.k)\n",
    "        \n",
    "        # For the S variational param, leave all standard deviations as one\n",
    "        var = np.ones(self.k).astype(float) ** 2 # adding the square just to make sure we know what this variable is later\n",
    "        \n",
    "        # For the phi latent variable\n",
    "        # initialize an N x K matrix\n",
    "        # then population the matrix with random probabilities\n",
    "        # each row sums to 1\n",
    "        phi = np.random.uniform(low=0,high=1,size=[len(data),self.k])\n",
    "        phi = phi/phi.sum(axis=1,keepdims=True)\n",
    "        \n",
    "        return (m,var,phi)\n",
    "        \n",
    "    def coordinate_ascent_optimizer(self,num_iters:int=1000)->Tuple[NP,NP,NP]:\n",
    "        m,var,phi = self.init_variational_params()\n",
    "                \n",
    "        # For the first implementation, we don't compute ELBO\n",
    "        # We simply run the algorithm for N iterations\n",
    "        for _ in range(num_iters):\n",
    "            for i in range(len(self.data)):\n",
    "                phi[i,:] = np.exp(m*self.data[i] - ((var + m**2)/2))\n",
    "                phi[i,:] = phi[i,:] / phi[i,:].sum()\n",
    "                \n",
    "            # Now let us assume that the prior variance of component means is 1\n",
    "            # then\n",
    "            for k in range(self.k):\n",
    "                m[k] = np.sum(phi[:,k] * self.data)/(1 + np.sum(phi[:,k]))\n",
    "                var[k] = 1 / (1 + np.sum(phi[:,k]))\n",
    "            \n",
    "        self.cluster_assignments = np.argmax(phi,axis=1)\n",
    "        \n",
    "        return m,var,phi"
   ]
  },
  {
   "cell_type": "markdown",
   "id": "3ecb11ea",
   "metadata": {},
   "source": [
    "Let us initialize the variational inference object"
   ]
  },
  {
   "cell_type": "code",
   "execution_count": 53,
   "id": "e3bec004",
   "metadata": {},
   "outputs": [],
   "source": [
    "vi=univariate_gaussian_variational_inference(data['data'].values,3)"
   ]
  },
  {
   "cell_type": "markdown",
   "id": "9ed7656f",
   "metadata": {},
   "source": [
    "Now running the algorithm for 0 iterations will simply initialize the variational parameters. That means the cluster probability densities will have a random initialization. So in theory all of our data points should have random cluster assignments. Let's test this hypothesis"
   ]
  },
  {
   "cell_type": "code",
   "execution_count": 55,
   "id": "619b6cfb",
   "metadata": {},
   "outputs": [],
   "source": [
    "_=vi.coordinate_ascent_optimizer(0)\n",
    "data['cluster']=vi.cluster_assignments"
   ]
  },
  {
   "cell_type": "code",
   "execution_count": 56,
   "id": "7da23b84",
   "metadata": {},
   "outputs": [
    {
     "data": {
      "image/png": "[encoded data removed]",
      "text/plain": [
       "<Figure size 432x288 with 1 Axes>"
      ]
     },
     "metadata": {
      "needs_background": "light"
     },
     "output_type": "display_data"
    }
   ],
   "source": [
    "sns.histplot(data,x='data',hue='cluster',bins=50, alpha=0.5, palette='pastel')\n",
    "plt.show()"
   ]
  },
  {
   "cell_type": "markdown",
   "id": "58c5d6c7",
   "metadata": {},
   "source": [
    "From the above plot, it is quite clear that the distribution of clusters is jumbled up, with points being randomly assigned to each cluster with a roughly uniform likelihood. \n",
    "\n",
    "Now let us run the algorithm for just 1 iteration"
   ]
  },
  {
   "cell_type": "code",
   "execution_count": 57,
   "id": "aba1872b",
   "metadata": {},
   "outputs": [],
   "source": [
    "_=vi.coordinate_ascent_optimizer(1)\n",
    "data['cluster']=vi.cluster_assignments"
   ]
  },
  {
   "cell_type": "code",
   "execution_count": 58,
   "id": "c1b85712",
   "metadata": {},
   "outputs": [
    {
     "data": {
      "image/png": "[encoded data removed]",
      "text/plain": [
       "<Figure size 432x288 with 1 Axes>"
      ]
     },
     "metadata": {
      "needs_background": "light"
     },
     "output_type": "display_data"
    }
   ],
   "source": [
    "sns.histplot(data,x='data',hue='cluster',bins=50, alpha=0.5, palette='pastel')\n",
    "plt.show()"
   ]
  },
  {
   "cell_type": "code",
   "execution_count": 59,
   "id": "41e027d0",
   "metadata": {},
   "outputs": [
    {
     "data": {
      "image/png": "[encoded data removed]",
      "text/plain": [
       "<Figure size 432x288 with 1 Axes>"
      ]
     },
     "metadata": {
      "needs_background": "light"
     },
     "output_type": "display_data"
    }
   ],
   "source": [
    "_=vi.coordinate_ascent_optimizer(10)\n",
    "data['cluster']=vi.cluster_assignments\n",
    "\n",
    "sns.histplot(data,x='data',hue='cluster',bins=50, alpha=0.5, palette='pastel')\n",
    "plt.show()"
   ]
  },
  {
   "cell_type": "code",
   "execution_count": null,
   "id": "1d10fdf5",
   "metadata": {},
   "outputs": [],
   "source": []
  }
 ],
 "metadata": {
  "kernelspec": {
   "display_name": "Python 3 (ipykernel)",
   "language": "python",
   "name": "python3"
  },
  "language_info": {
   "codemirror_mode": {
    "name": "ipython",
    "version": 3
   },
   "file_extension": ".py",
   "mimetype": "text/x-python",
   "name": "python",
   "nbconvert_exporter": "python",
   "pygments_lexer": "ipython3",
   "version": "3.7.11"
  }
 },
 "nbformat": 4,
 "nbformat_minor": 5
}
