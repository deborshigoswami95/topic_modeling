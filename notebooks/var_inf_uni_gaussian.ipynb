{
 "cells": [
  {
   "cell_type": "markdown",
   "id": "b179b880",
   "metadata": {},
   "source": [
    "### Sources\n",
    "\n",
    "[Introduction to Variational Inference](https://leimao.github.io/article/Introduction-to-Variational-Inference/) - Lei Mao, Sr. DL Engineer, NVIDIA, Santa Clara\n",
    "\n",
    "[Variational Inference: A Review for Statisticians](https://arxiv.org/abs/1601.00670) - Blei et. al."
   ]
  },
  {
   "cell_type": "markdown",
   "id": "16f95c6f",
   "metadata": {},
   "source": [
    "![Psuedo-code for coordinate ascent](../assets/VI_coord_ascent_gaussian_psuedo_code.png)\n",
    "\n",
    "<p style=\"text-align: center;\">Variational Inference for Gaussian Mixtures using Coordinate Ascent (Blei et. al.)</p>"
   ]
  },
  {
   "cell_type": "code",
   "execution_count": 4,
   "id": "b3e7dc5c",
   "metadata": {
    "collapsed": true
   },
   "outputs": [
    {
     "name": "stdout",
     "output_type": "stream",
     "text": [
      "Collecting pomegranate\n",
      "  Downloading pomegranate-0.14.8-cp37-cp37m-macosx_10_9_x86_64.whl (7.2 MB)\n",
      "\u001b[K     |████████████████████████████████| 7.2 MB 736 kB/s eta 0:00:01\n",
      "\u001b[?25hRequirement already satisfied: scipy>=0.17.0 in /Users/goswamd/anaconda3/lib/python3.7/site-packages (from pomegranate) (1.7.3)\n",
      "Requirement already satisfied: numpy>=1.20.0 in /Users/goswamd/anaconda3/lib/python3.7/site-packages (from pomegranate) (1.21.5)\n",
      "Requirement already satisfied: joblib>=0.9.0b4 in /Users/goswamd/anaconda3/lib/python3.7/site-packages (from pomegranate) (1.1.0)\n",
      "Requirement already satisfied: pyyaml in /Users/goswamd/anaconda3/lib/python3.7/site-packages (from pomegranate) (5.4.1)\n",
      "Requirement already satisfied: networkx>=2.4 in /Users/goswamd/anaconda3/lib/python3.7/site-packages (from pomegranate) (2.6.1)\n",
      "Requirement already satisfied: pandas>=1.1 in /Users/goswamd/anaconda3/lib/python3.7/site-packages (from networkx>=2.4->pomegranate) (1.3.5)\n",
      "Requirement already satisfied: matplotlib>=3.3 in /Users/goswamd/anaconda3/lib/python3.7/site-packages (from networkx>=2.4->pomegranate) (3.5.1)\n",
      "Requirement already satisfied: pyparsing>=2.2.1 in /Users/goswamd/anaconda3/lib/python3.7/site-packages (from matplotlib>=3.3->networkx>=2.4->pomegranate) (3.0.4)\n",
      "Requirement already satisfied: cycler>=0.10 in /Users/goswamd/anaconda3/lib/python3.7/site-packages (from matplotlib>=3.3->networkx>=2.4->pomegranate) (0.11.0)\n",
      "Requirement already satisfied: pillow>=6.2.0 in /Users/goswamd/anaconda3/lib/python3.7/site-packages (from matplotlib>=3.3->networkx>=2.4->pomegranate) (9.0.1)\n",
      "Requirement already satisfied: python-dateutil>=2.7 in /Users/goswamd/anaconda3/lib/python3.7/site-packages (from matplotlib>=3.3->networkx>=2.4->pomegranate) (2.8.2)\n",
      "Requirement already satisfied: kiwisolver>=1.0.1 in /Users/goswamd/anaconda3/lib/python3.7/site-packages (from matplotlib>=3.3->networkx>=2.4->pomegranate) (1.4.2)\n",
      "Requirement already satisfied: packaging>=20.0 in /Users/goswamd/anaconda3/lib/python3.7/site-packages (from matplotlib>=3.3->networkx>=2.4->pomegranate) (20.4)\n",
      "Requirement already satisfied: fonttools>=4.22.0 in /Users/goswamd/anaconda3/lib/python3.7/site-packages (from matplotlib>=3.3->networkx>=2.4->pomegranate) (4.25.0)\n",
      "Requirement already satisfied: typing-extensions in /Users/goswamd/anaconda3/lib/python3.7/site-packages (from kiwisolver>=1.0.1->matplotlib>=3.3->networkx>=2.4->pomegranate) (4.1.1)\n",
      "Requirement already satisfied: six in /Users/goswamd/anaconda3/lib/python3.7/site-packages (from packaging>=20.0->matplotlib>=3.3->networkx>=2.4->pomegranate) (1.15.0)\n",
      "Requirement already satisfied: pytz>=2017.3 in /Users/goswamd/anaconda3/lib/python3.7/site-packages (from pandas>=1.1->networkx>=2.4->pomegranate) (2022.1)\n",
      "Installing collected packages: pomegranate\n",
      "Successfully installed pomegranate-0.14.8\n"
     ]
    }
   ],
   "source": [
    "#!pip install pomegranate"
   ]
  },
  {
   "cell_type": "code",
   "execution_count": 1,
   "id": "a73132ae",
   "metadata": {},
   "outputs": [],
   "source": [
    "from pomegranate import *\n",
    "\n",
    "import numpy as np\n",
    "import pandas as pd\n",
    "import matplotlib.pyplot as plt\n",
    "import seaborn as sns\n",
    "\n",
    "from typing import Optional, Union, Tuple"
   ]
  },
  {
   "cell_type": "code",
   "execution_count": 2,
   "id": "95f69535",
   "metadata": {},
   "outputs": [],
   "source": [
    "DF = pd.DataFrame\n",
    "NP = np.ndarray"
   ]
  },
  {
   "cell_type": "code",
   "execution_count": 3,
   "id": "90ee81f4",
   "metadata": {},
   "outputs": [],
   "source": [
    "\n",
    "\n",
    "def EM_univariate_gaussian_optimizer():\n",
    "    return"
   ]
  },
  {
   "cell_type": "code",
   "execution_count": 4,
   "id": "60d9c5ec",
   "metadata": {},
   "outputs": [],
   "source": [
    "# Each entry in prior gaussians sets up a cluster center followed by the cluster standard deviation\n",
    "prior_gaussians = [ \n",
    "    [-10,1],\n",
    "    [0,1],\n",
    "    [10,1]\n",
    "]\n",
    "\n",
    "dist_list = []\n",
    "\n",
    "for k in prior_gaussians:\n",
    "    dist_list.append(NormalDistribution(k[0],k[1]))\n",
    "\n",
    "# Use GeneralMixtureModel in the pomegranate library to create a combined distribution\n",
    "# from the individual Normal Distributions.\n",
    "# The combined model is equivalent to a Gaussian Mixture model with as many Gaussaians as\n",
    "# there are cluster centers\n",
    "gaussian_mixture_model = GeneralMixtureModel(dist_list)"
   ]
  },
  {
   "cell_type": "code",
   "execution_count": 5,
   "id": "71103dca",
   "metadata": {},
   "outputs": [
    {
     "data": {
      "image/png": "[encoded data removed]",
      "text/plain": [
       "<Figure size 432x288 with 1 Axes>"
      ]
     },
     "metadata": {
      "needs_background": "light"
     },
     "output_type": "display_data"
    }
   ],
   "source": [
    "# Sample Data from the Gaussian Mixture model\n",
    "data=pd.DataFrame(gaussian_mixture_model.sample(1000),columns=['data'])\n",
    "\n",
    "# Visualize the distribution to make sure we are sampling data as expected\n",
    "sns.histplot(data,x='data',bins=50)\n",
    "plt.show()"
   ]
  },
  {
   "cell_type": "markdown",
   "id": "07f2770e",
   "metadata": {},
   "source": [
    "![Psuedo-code for coordinate ascent](../assets/phi_update.png)\n",
    "\n",
    "<p style=\"text-align: center;\">Cluster assignment variational parameter update equation (Lei Mao)</p>"
   ]
  },
  {
   "cell_type": "code",
   "execution_count": 72,
   "id": "0fd18159",
   "metadata": {},
   "outputs": [],
   "source": [
    "class univariate_gaussian_variational_inference(object):\n",
    "    def __init__(self,data:NP,K:int)->None:\n",
    "        \n",
    "        if not isinstance(data, NP) or len(data.shape)>1:\n",
    "            raise Exception(\"Input Data MUST be a 1 dimensional numpy array\")\n",
    "            \n",
    "        self.data=data\n",
    "        self.k=K\n",
    "        self.num_samples=data.shape[0]\n",
    "        self.cluster_assignments=None\n",
    "        \n",
    "    def init_variational_params(self)->Tuple[NP,NP,NP]:\n",
    "        # Initialize Variational Parameters\n",
    "        \n",
    "        # For the m parameter, a reasonable initialization is \n",
    "        # finding the limits of the data and sampling from a \n",
    "        # uniform distribution within that range\n",
    "        data_range = (min(self.data),max(self.data))\n",
    "        m = np.random.uniform(low=data_range[0],high=data_range[1],size=self.k)\n",
    "        \n",
    "        # For the S variational param, leave all standard deviations as one\n",
    "        var = np.ones(self.k).astype(float) ** 2 # adding the square just to make sure we know what this variable is later\n",
    "        \n",
    "        # For the phi latent variable\n",
    "        # initialize an N x K matrix\n",
    "        # then population the matrix with random probabilities\n",
    "        # each row sums to 1\n",
    "        phi = np.random.uniform(low=0,high=1,size=[len(data),self.k])\n",
    "        phi = phi/phi.sum(axis=1,keepdims=True)\n",
    "        \n",
    "        return (m,var,phi)\n",
    "        \n",
    "    def coordinate_ascent_optimizer(self,num_iters:int=1000)->Tuple[NP,NP,NP]:\n",
    "        m,var,phi = self.init_variational_params()\n",
    "        \n",
    "        # For the first implementation, we don't compute ELBO\n",
    "        # We simply run the algorithm for N iterations\n",
    "        for _ in range(num_iters):\n",
    "            for i in range(len(self.data)):\n",
    "                phi[i,:] = np.exp(m*self.data[i] - ((var + m**2)/2))\n",
    "                phi[i,:] = phi[i,:] / phi[i,:].sum()\n",
    "                \n",
    "            # Now let us assume that the prior variance of component means is 1\n",
    "            # then\n",
    "            for k in range(self.k):\n",
    "                m[k] = np.sum(phi[:,k] * self.data)/(1 + np.sum(phi[:,k] * self.data))\n",
    "                var[k] = 1 / (1 + np.sum(phi[:,k] * self.data))\n",
    "            \n",
    "        self.cluster_assignments = np.argmax(phi,axis=1)\n",
    "        \n",
    "        return m,var,phi"
   ]
  },
  {
   "cell_type": "code",
   "execution_count": 73,
   "id": "e3bec004",
   "metadata": {},
   "outputs": [],
   "source": [
    "vi=univariate_gaussian_variational_inference(data['data'].values,3)"
   ]
  },
  {
   "cell_type": "code",
   "execution_count": 74,
   "id": "1dcd49fc",
   "metadata": {},
   "outputs": [
    {
     "data": {
      "text/plain": [
       "(array([-9.09426995,  5.90735413,  3.02960316]),\n",
       " array([1., 1., 1.]),\n",
       " array([[0.25251222, 0.31276896, 0.43471882],\n",
       "        [0.19324437, 0.33913792, 0.46761772],\n",
       "        [0.08051881, 0.49201937, 0.42746182],\n",
       "        ...,\n",
       "        [0.25857445, 0.27610858, 0.46531697],\n",
       "        [0.2565877 , 0.33502179, 0.40839051],\n",
       "        [0.4661485 , 0.0218673 , 0.5119842 ]]))"
      ]
     },
     "execution_count": 74,
     "metadata": {},
     "output_type": "execute_result"
    }
   ],
   "source": [
    "vi.init_variational_params()"
   ]
  },
  {
   "cell_type": "code",
   "execution_count": 75,
   "id": "619b6cfb",
   "metadata": {},
   "outputs": [
    {
     "data": {
      "text/plain": [
       "(array([1.00623641, 1.00033168, 0.99968301]),\n",
       " array([-0.00623641, -0.00033168,  0.00031699]),\n",
       " array([[2.18824770e-18, 1.18288501e-30, 1.00000000e+00],\n",
       "        [5.68357729e-03, 9.94316421e-01, 2.20131748e-09],\n",
       "        [4.60650458e-19, 9.73420282e-32, 1.00000000e+00],\n",
       "        ...,\n",
       "        [4.89686014e-04, 9.99510314e-01, 3.22037105e-12],\n",
       "        [5.21184713e-03, 9.94788151e-01, 1.74696174e-09],\n",
       "        [1.36209101e-07, 2.36341371e-13, 9.99999864e-01]]))"
      ]
     },
     "execution_count": 75,
     "metadata": {},
     "output_type": "execute_result"
    }
   ],
   "source": [
    "vi.coordinate_ascent_optimizer(1)"
   ]
  },
  {
   "cell_type": "code",
   "execution_count": 76,
   "id": "e658c6b9",
   "metadata": {},
   "outputs": [
    {
     "data": {
      "image/png": "[encoded data removed]",
      "text/plain": [
       "<Figure size 432x288 with 1 Axes>"
      ]
     },
     "metadata": {
      "needs_background": "light"
     },
     "output_type": "display_data"
    }
   ],
   "source": [
    "plt.scatter(data,vi.cluster_assignments,c=vi.cluster_assignments)\n",
    "plt.show()"
   ]
  },
  {
   "cell_type": "code",
   "execution_count": 50,
   "id": "c1b85712",
   "metadata": {},
   "outputs": [
    {
     "data": {
      "text/plain": [
       "(1000, 1)"
      ]
     },
     "execution_count": 50,
     "metadata": {},
     "output_type": "execute_result"
    }
   ],
   "source": [
    "data.shape"
   ]
  },
  {
   "cell_type": "code",
   "execution_count": 56,
   "id": "41e027d0",
   "metadata": {},
   "outputs": [
    {
     "data": {
      "text/plain": [
       "array([0, 1, 0, 1, 1, 0, 0, 1, 1, 1, 1, 1, 0, 1, 1, 1, 1, 1, 1, 1, 0, 1,\n",
       "       0, 0, 1, 1, 0, 1, 0, 0, 0, 1, 0, 0, 1, 1, 1, 0, 0, 1, 0, 0, 1, 0,\n",
       "       0, 0, 0, 0, 0, 0, 0, 0, 1, 0, 0, 0, 0, 1, 0, 0, 0, 0, 1, 1, 1, 0,\n",
       "       0, 1, 0, 1, 1, 0, 1, 1, 1, 1, 0, 1, 1, 0, 1, 0, 0, 0, 1, 0, 1, 1,\n",
       "       0, 1, 1, 1, 1, 1, 1, 1, 0, 0, 0, 0, 0, 1, 1, 0, 1, 1, 1, 1, 1, 0,\n",
       "       1, 1, 0, 1, 0, 1, 1, 1, 0, 1, 1, 1, 1, 1, 1, 0, 1, 1, 1, 1, 1, 1,\n",
       "       1, 1, 1, 1, 1, 1, 0, 0, 1, 1, 1, 1, 0, 1, 0, 0, 1, 1, 0, 0, 1, 1,\n",
       "       0, 1, 1, 0, 0, 1, 0, 1, 1, 1, 0, 1, 0, 1, 1, 0, 1, 1, 1, 0, 0, 0,\n",
       "       1, 1, 1, 0, 0, 1, 1, 1, 1, 0, 0, 1, 1, 1, 0, 1, 1, 1, 1, 0, 1, 0,\n",
       "       1, 0, 1, 0, 1, 1, 0, 1, 0, 1, 0, 0, 1, 0, 1, 0, 1, 1, 1, 0, 1, 0,\n",
       "       1, 0, 1, 0, 0, 1, 0, 0, 1, 1, 1, 1, 0, 1, 1, 1, 0, 0, 1, 0, 0, 1,\n",
       "       0, 0, 1, 1, 1, 0, 1, 1, 1, 0, 1, 1, 1, 1, 1, 0, 1, 0, 1, 1, 0, 1,\n",
       "       0, 0, 1, 0, 1, 0, 1, 1, 1, 0, 1, 0, 0, 1, 1, 0, 0, 1, 0, 1, 0, 1,\n",
       "       0, 0, 0, 1, 1, 1, 1, 0, 0, 1, 1, 1, 1, 1, 0, 1, 1, 1, 0, 0, 1, 0,\n",
       "       0, 1, 1, 1, 1, 0, 0, 0, 1, 0, 1, 0, 0, 1, 1, 0, 0, 1, 1, 1, 1, 1,\n",
       "       0, 0, 1, 0, 1, 0, 0, 0, 0, 1, 1, 1, 1, 1, 0, 1, 0, 0, 0, 1, 0, 0,\n",
       "       1, 0, 1, 1, 0, 0, 1, 1, 1, 0, 1, 1, 1, 1, 1, 1, 0, 1, 1, 0, 1, 1,\n",
       "       1, 1, 1, 0, 1, 0, 0, 0, 1, 0, 1, 1, 1, 0, 0, 1, 0, 0, 1, 0, 1, 1,\n",
       "       0, 1, 0, 0, 1, 1, 0, 1, 1, 1, 0, 1, 1, 1, 1, 1, 1, 0, 1, 1, 1, 0,\n",
       "       1, 1, 1, 0, 0, 1, 0, 0, 0, 1, 0, 1, 1, 0, 1, 1, 1, 1, 0, 0, 0, 1,\n",
       "       1, 1, 0, 1, 1, 0, 1, 1, 1, 0, 0, 0, 0, 1, 1, 0, 1, 1, 1, 0, 1, 1,\n",
       "       1, 1, 0, 1, 1, 0, 1, 1, 0, 0, 1, 0, 0, 0, 0, 1, 0, 0, 1, 1, 0, 1,\n",
       "       1, 0, 0, 1, 1, 1, 1, 0, 1, 1, 0, 1, 1, 1, 1, 1, 0, 0, 2, 1, 1, 1,\n",
       "       0, 1, 0, 0, 0, 1, 0, 1, 0, 1, 1, 0, 1, 0, 1, 0, 1, 0, 0, 0, 0, 1,\n",
       "       1, 1, 0, 1, 1, 0, 0, 1, 0, 1, 1, 1, 1, 0, 0, 1, 1, 1, 1, 1, 1, 1,\n",
       "       1, 0, 1, 0, 0, 1, 0, 0, 0, 1, 1, 0, 0, 0, 0, 1, 1, 0, 0, 0, 1, 1,\n",
       "       0, 0, 1, 0, 1, 0, 0, 0, 1, 0, 1, 0, 0, 0, 0, 0, 1, 0, 1, 1, 1, 0,\n",
       "       0, 1, 1, 1, 1, 1, 1, 0, 1, 1, 1, 1, 1, 1, 0, 1, 1, 1, 0, 0, 1, 0,\n",
       "       0, 0, 0, 0, 1, 0, 1, 0, 1, 1, 0, 1, 1, 0, 0, 1, 0, 1, 0, 1, 0, 0,\n",
       "       1, 0, 1, 1, 0, 1, 1, 1, 0, 1, 1, 1, 1, 0, 1, 1, 1, 0, 1, 1, 0, 1,\n",
       "       0, 0, 1, 1, 0, 1, 0, 1, 0, 0, 1, 1, 0, 1, 0, 1, 1, 0, 0, 1, 1, 1,\n",
       "       1, 1, 1, 0, 1, 0, 0, 0, 0, 1, 0, 0, 1, 0, 0, 0, 1, 1, 0, 0, 0, 0,\n",
       "       0, 0, 1, 1, 1, 1, 1, 1, 1, 1, 0, 0, 0, 1, 1, 1, 0, 1, 1, 0, 0, 1,\n",
       "       1, 0, 1, 0, 1, 1, 0, 1, 0, 1, 1, 1, 0, 1, 1, 0, 1, 1, 0, 0, 0, 1,\n",
       "       0, 0, 1, 1, 1, 0, 0, 0, 1, 0, 1, 1, 0, 0, 0, 1, 1, 1, 1, 1, 1, 1,\n",
       "       0, 1, 1, 1, 1, 0, 1, 0, 1, 0, 1, 1, 0, 1, 0, 0, 0, 1, 0, 1, 1, 1,\n",
       "       1, 1, 0, 0, 0, 0, 1, 0, 1, 1, 0, 1, 1, 0, 0, 0, 1, 0, 0, 0, 0, 1,\n",
       "       1, 1, 1, 0, 0, 0, 1, 0, 0, 0, 0, 0, 0, 1, 1, 0, 1, 1, 0, 1, 1, 1,\n",
       "       1, 1, 1, 0, 1, 0, 1, 0, 1, 1, 0, 1, 0, 1, 1, 1, 0, 1, 1, 0, 1, 0,\n",
       "       0, 0, 1, 1, 1, 1, 1, 0, 1, 1, 0, 1, 1, 1, 1, 0, 1, 1, 0, 1, 1, 0,\n",
       "       0, 1, 0, 1, 1, 1, 1, 0, 1, 0, 1, 1, 1, 2, 1, 1, 0, 0, 1, 1, 1, 1,\n",
       "       0, 0, 0, 0, 0, 0, 0, 1, 0, 1, 1, 0, 0, 1, 0, 0, 0, 0, 0, 1, 0, 0,\n",
       "       1, 0, 0, 1, 1, 1, 0, 1, 1, 1, 0, 1, 0, 1, 1, 1, 1, 1, 1, 0, 0, 1,\n",
       "       0, 0, 0, 1, 0, 0, 1, 0, 1, 1, 1, 0, 1, 0, 1, 0, 0, 1, 0, 0, 1, 0,\n",
       "       1, 0, 1, 1, 0, 0, 1, 0, 0, 1, 0, 0, 1, 1, 0, 1, 1, 1, 1, 1, 0, 0,\n",
       "       0, 1, 1, 1, 1, 1, 1, 1, 1, 1])"
      ]
     },
     "execution_count": 56,
     "metadata": {},
     "output_type": "execute_result"
    }
   ],
   "source": [
    "vi.cluster_assignments"
   ]
  },
  {
   "cell_type": "code",
   "execution_count": null,
   "id": "1d10fdf5",
   "metadata": {},
   "outputs": [],
   "source": []
  }
 ],
 "metadata": {
  "kernelspec": {
   "display_name": "Python 3 (ipykernel)",
   "language": "python",
   "name": "python3"
  },
  "language_info": {
   "codemirror_mode": {
    "name": "ipython",
    "version": 3
   },
   "file_extension": ".py",
   "mimetype": "text/x-python",
   "name": "python",
   "nbconvert_exporter": "python",
   "pygments_lexer": "ipython3",
   "version": "3.7.11"
  }
 },
 "nbformat": 4,
 "nbformat_minor": 5
}
